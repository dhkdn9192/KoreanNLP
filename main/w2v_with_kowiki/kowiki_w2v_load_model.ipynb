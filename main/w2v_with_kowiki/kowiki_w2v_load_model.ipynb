{
 "cells": [
  {
   "cell_type": "code",
   "execution_count": 1,
   "metadata": {},
   "outputs": [
    {
     "name": "stderr",
     "output_type": "stream",
     "text": [
      "C:\\ProgramData\\Anaconda3\\envs\\konlpy\\lib\\site-packages\\gensim\\utils.py:860: UserWarning: detected Windows; aliasing chunkize to chunkize_serial\n",
      "  warnings.warn(\"detected Windows; aliasing chunkize to chunkize_serial\")\n"
     ]
    }
   ],
   "source": [
    "from gensim.models import word2vec\n",
    "model = word2vec.Word2Vec.load('../model/wiki.model')"
   ]
  },
  {
   "cell_type": "code",
   "execution_count": 2,
   "metadata": {},
   "outputs": [
    {
     "data": {
      "text/plain": [
       "[('대지', 0.726149320602417),\n",
       " ('영토', 0.666246235370636),\n",
       " ('세력권', 0.6573931574821472),\n",
       " ('바다', 0.6430018544197083),\n",
       " ('사방', 0.6348925828933716),\n",
       " ('물길', 0.633717954158783),\n",
       " ('육지', 0.6239772439002991),\n",
       " ('바다로', 0.6229182481765747),\n",
       " ('농사', 0.6190952658653259),\n",
       " ('평원', 0.6179516315460205)]"
      ]
     },
     "execution_count": 2,
     "metadata": {},
     "output_type": "execute_result"
    }
   ],
   "source": [
    "model.wv.most_similar(positive=[\"땅\"])"
   ]
  },
  {
   "cell_type": "code",
   "execution_count": 3,
   "metadata": {},
   "outputs": [
    {
     "data": {
      "text/plain": [
       "[('한국', 0.5974305272102356),\n",
       " ('조선민주주의인민공화국', 0.5751484036445618),\n",
       " ('북한', 0.5257462859153748),\n",
       " ('이수근', 0.5216465592384338),\n",
       " ('미국', 0.4974401593208313),\n",
       " ('박선영', 0.4956161677837372),\n",
       " ('중화민국', 0.48713234066963196),\n",
       " ('방송인', 0.4725605249404907),\n",
       " ('이수혁', 0.4681432247161865),\n",
       " ('이상훈', 0.4636019170284271)]"
      ]
     },
     "execution_count": 3,
     "metadata": {},
     "output_type": "execute_result"
    }
   ],
   "source": [
    "model.wv.most_similar(positive=[\"대한민국\"])"
   ]
  },
  {
   "cell_type": "code",
   "execution_count": 4,
   "metadata": {},
   "outputs": [
    {
     "data": {
      "text/plain": [
       "[('젊은이', 0.6916652917861938),\n",
       " ('백성', 0.6503685712814331),\n",
       " ('자식', 0.6211256384849548),\n",
       " ('그래서', 0.611595869064331),\n",
       " ('사람과', 0.598285436630249),\n",
       " ('그렇게', 0.5978952050209045),\n",
       " ('너희', 0.5876206159591675),\n",
       " ('무리', 0.5821945667266846),\n",
       " ('형제자매', 0.5813503861427307),\n",
       " ('누구', 0.579426646232605)]"
      ]
     },
     "execution_count": 4,
     "metadata": {},
     "output_type": "execute_result"
    }
   ],
   "source": [
    "model.wv.most_similar(positive=[\"사람\"])"
   ]
  },
  {
   "cell_type": "code",
   "execution_count": 5,
   "metadata": {},
   "outputs": [
    {
     "data": {
      "text/plain": [
       "[('인천', 0.8347694873809814),\n",
       " ('대구', 0.8297421932220459),\n",
       " ('목포', 0.7702499032020569),\n",
       " ('포항', 0.7394189834594727),\n",
       " ('서울', 0.7370201945304871),\n",
       " ('경남', 0.7300721406936646),\n",
       " ('광주', 0.7213215827941895),\n",
       " ('춘천', 0.7134368419647217),\n",
       " ('김포', 0.6921590566635132),\n",
       " ('마산', 0.689791202545166)]"
      ]
     },
     "execution_count": 5,
     "metadata": {},
     "output_type": "execute_result"
    }
   ],
   "source": [
    "model.wv.most_similar(positive=[\"부산\"])"
   ]
  },
  {
   "cell_type": "code",
   "execution_count": 6,
   "metadata": {},
   "outputs": [
    {
     "data": {
      "text/plain": [
       "[('소프트웨어', 0.77524334192276),\n",
       " ('하드웨어', 0.7578612565994263),\n",
       " ('마이크로프로세서', 0.7456701993942261),\n",
       " ('컴퓨팅', 0.7437244653701782),\n",
       " ('시스템', 0.7393208742141724),\n",
       " ('매킨토시', 0.733659029006958),\n",
       " ('프로그래머', 0.7294461727142334),\n",
       " ('애플리케이션', 0.7287973165512085),\n",
       " ('계산기', 0.7272768616676331),\n",
       " ('인터프리터', 0.7253411412239075)]"
      ]
     },
     "execution_count": 6,
     "metadata": {},
     "output_type": "execute_result"
    }
   ],
   "source": [
    "model.wv.most_similar(positive=[\"컴퓨터\"])"
   ]
  },
  {
   "cell_type": "code",
   "execution_count": 7,
   "metadata": {},
   "outputs": [
    {
     "data": {
      "text/plain": [
       "[('자작나무', 0.9046410918235779),\n",
       " ('송이버섯', 0.8970750570297241),\n",
       " ('깨소금', 0.896264374256134),\n",
       " ('느타리버섯', 0.8948071002960205),\n",
       " ('졸참나무', 0.8938612937927246),\n",
       " ('생쥐', 0.8928778767585754),\n",
       " ('쌀국수', 0.8924858570098877),\n",
       " ('앵두', 0.8922893404960632),\n",
       " ('Dendronephthya', 0.88993239402771),\n",
       " ('오목눈이', 0.8882041573524475)]"
      ]
     },
     "execution_count": 7,
     "metadata": {},
     "output_type": "execute_result"
    }
   ],
   "source": [
    "model.wv.most_similar(positive=[\"너구리\"])"
   ]
  },
  {
   "cell_type": "code",
   "execution_count": 8,
   "metadata": {},
   "outputs": [
    {
     "data": {
      "text/plain": [
       "[('부통령', 0.7524639368057251),\n",
       " ('총리', 0.7236411571502686),\n",
       " ('국무총리', 0.6647025346755981),\n",
       " ('행정부', 0.6605578660964966),\n",
       " ('대통령직', 0.655975878238678),\n",
       " ('대선', 0.6437391042709351),\n",
       " ('총통', 0.6294759511947632),\n",
       " ('닉슨', 0.6075522303581238),\n",
       " ('서울시장', 0.6011168956756592),\n",
       " ('오바마', 0.5986461043357849)]"
      ]
     },
     "execution_count": 8,
     "metadata": {},
     "output_type": "execute_result"
    }
   ],
   "source": [
    "model.wv.most_similar(positive=[\"대통령\"])"
   ]
  },
  {
   "cell_type": "code",
   "execution_count": null,
   "metadata": {
    "collapsed": true
   },
   "outputs": [],
   "source": []
  }
 ],
 "metadata": {
  "kernelspec": {
   "display_name": "Python 3_konlpy",
   "language": "python",
   "name": "python3"
  },
  "language_info": {
   "codemirror_mode": {
    "name": "ipython",
    "version": 3
   },
   "file_extension": ".py",
   "mimetype": "text/x-python",
   "name": "python",
   "nbconvert_exporter": "python",
   "pygments_lexer": "ipython3",
   "version": "3.6.4"
  }
 },
 "nbformat": 4,
 "nbformat_minor": 2
}
