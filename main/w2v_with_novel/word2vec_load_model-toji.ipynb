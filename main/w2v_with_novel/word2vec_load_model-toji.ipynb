{
 "cells": [
  {
   "cell_type": "code",
   "execution_count": 1,
   "metadata": {},
   "outputs": [
    {
     "name": "stderr",
     "output_type": "stream",
     "text": [
      "C:\\ProgramData\\Anaconda3\\envs\\konlpy\\lib\\site-packages\\gensim\\utils.py:860: UserWarning: detected Windows; aliasing chunkize to chunkize_serial\n",
      "  warnings.warn(\"detected Windows; aliasing chunkize to chunkize_serial\")\n"
     ]
    }
   ],
   "source": [
    "from gensim.models import word2vec\n",
    "model = word2vec.Word2Vec.load(\"../model/toji.model\")"
   ]
  },
  {
   "cell_type": "code",
   "execution_count": 2,
   "metadata": {},
   "outputs": [
    {
     "data": {
      "text/plain": [
       "[('조선', 0.8932257294654846),\n",
       " ('되놈', 0.8155829906463623),\n",
       " ('강토', 0.7895214557647705),\n",
       " ('덩어리', 0.7781120538711548),\n",
       " ('간도', 0.7680019736289978),\n",
       " ('우리', 0.7559094429016113),\n",
       " ('경상도', 0.7491275072097778),\n",
       " ('생업', 0.7483218908309937),\n",
       " ('끼리', 0.7462655901908875),\n",
       " ('두만강', 0.7457101941108704)]"
      ]
     },
     "execution_count": 2,
     "metadata": {},
     "output_type": "execute_result"
    }
   ],
   "source": [
    "model.wv.most_similar(positive=[\"땅\"])"
   ]
  },
  {
   "cell_type": "code",
   "execution_count": 7,
   "metadata": {},
   "outputs": [
    {
     "data": {
      "text/plain": [
       "[('까르르', 0.7747330665588379),\n",
       " ('누님', 0.7681507468223572),\n",
       " ('정호', 0.7521119713783264),\n",
       " ('반', 0.746159017086029),\n",
       " ('방과', 0.7235140204429626),\n",
       " ('송씨', 0.7229741811752319),\n",
       " ('권', 0.7222112417221069),\n",
       " ('아깝다', 0.7089822888374329),\n",
       " ('바르다', 0.7078723311424255),\n",
       " ('동업', 0.7065272927284241)]"
      ]
     },
     "execution_count": 7,
     "metadata": {},
     "output_type": "execute_result"
    }
   ],
   "source": [
    "model.wv.most_similar(positive=[\"서울\"])"
   ]
  },
  {
   "cell_type": "code",
   "execution_count": 8,
   "metadata": {},
   "outputs": [
    {
     "data": {
      "text/plain": [
       "[('들이켜다', 0.8752161860466003),\n",
       " ('말다', 0.864911675453186),\n",
       " ('마시다', 0.8472334742546082),\n",
       " ('잔', 0.8164283633232117),\n",
       " ('붓다', 0.7840136289596558),\n",
       " ('연거푸', 0.779843807220459),\n",
       " ('술잔', 0.7695122361183167),\n",
       " ('마시기', 0.7591744661331177),\n",
       " ('폭음', 0.7527796030044556),\n",
       " ('자작', 0.7499710321426392)]"
      ]
     },
     "execution_count": 8,
     "metadata": {},
     "output_type": "execute_result"
    }
   ],
   "source": [
    "model.wv.most_similar(positive=[\"술\"])"
   ]
  },
  {
   "cell_type": "code",
   "execution_count": 10,
   "metadata": {},
   "outputs": [
    {
     "data": {
      "text/plain": [
       "[('안쪽', 0.9152384996414185),\n",
       " ('장부', 0.9112870097160339),\n",
       " ('대붕', 0.9070271253585815),\n",
       " ('끄트머리', 0.9053198099136353),\n",
       " ('별채', 0.9044215679168701),\n",
       " ('무늬', 0.9034231901168823),\n",
       " ('턱밑', 0.901445746421814),\n",
       " ('위험', 0.9010619521141052),\n",
       " ('옥색', 0.9005857110023499),\n",
       " ('똬리', 0.9000142812728882)]"
      ]
     },
     "execution_count": 10,
     "metadata": {},
     "output_type": "execute_result"
    }
   ],
   "source": [
    "model.wv.most_similar(positive=[\"책\"])"
   ]
  },
  {
   "cell_type": "code",
   "execution_count": 11,
   "metadata": {},
   "outputs": [
    {
     "data": {
      "text/plain": [
       "[('차비', 0.857085108757019),\n",
       " ('저녁', 0.8549182415008545),\n",
       " ('대문', 0.8416736721992493),\n",
       " ('청요리', 0.8401834964752197),\n",
       " ('지나치다', 0.8387241363525391),\n",
       " ('물자', 0.8378379940986633),\n",
       " ('갇히다', 0.8371208906173706),\n",
       " ('켜다', 0.8361533284187317),\n",
       " ('앞', 0.830839991569519),\n",
       " ('조반', 0.8278077840805054)]"
      ]
     },
     "execution_count": 11,
     "metadata": {},
     "output_type": "execute_result"
    }
   ],
   "source": [
    "model.wv.most_similar(positive=[\"여관\"])"
   ]
  },
  {
   "cell_type": "code",
   "execution_count": 12,
   "metadata": {},
   "outputs": [
    {
     "data": {
      "text/plain": [
       "[('기화', 0.8118475079536438),\n",
       " ('미리', 0.8076093792915344),\n",
       " ('하다못해', 0.8012761473655701),\n",
       " ('가락지', 0.8009347915649414),\n",
       " ('머라꼬', 0.8008334636688232),\n",
       " ('드나드', 0.800155520439148),\n",
       " ('수풀', 0.7977327704429626),\n",
       " ('기본', 0.7969579696655273),\n",
       " ('고령', 0.7968548536300659),\n",
       " ('얄', 0.7942734956741333)]"
      ]
     },
     "execution_count": 12,
     "metadata": {},
     "output_type": "execute_result"
    }
   ],
   "source": [
    "model.wv.most_similar(positive=[\"하나\"])"
   ]
  },
  {
   "cell_type": "code",
   "execution_count": 15,
   "metadata": {},
   "outputs": [
    {
     "data": {
      "text/plain": [
       "[('강토', 0.8556027412414551),\n",
       " ('되놈', 0.8413587808609009),\n",
       " ('생업', 0.8334373831748962),\n",
       " ('백성', 0.8289889693260193),\n",
       " ('조상', 0.8273424506187439),\n",
       " ('나라', 0.8263362050056458),\n",
       " ('친하다', 0.8199201822280884),\n",
       " ('민족', 0.8180348873138428),\n",
       " ('끼리', 0.8171292543411255),\n",
       " ('겨레', 0.8160672187805176)]"
      ]
     },
     "execution_count": 15,
     "metadata": {},
     "output_type": "execute_result"
    }
   ],
   "source": [
    "model.wv.most_similar(positive=[\"우리\"])"
   ]
  },
  {
   "cell_type": "code",
   "execution_count": null,
   "metadata": {
    "collapsed": true
   },
   "outputs": [],
   "source": []
  }
 ],
 "metadata": {
  "kernelspec": {
   "display_name": "Python 3_konlpy",
   "language": "python",
   "name": "python3"
  },
  "language_info": {
   "codemirror_mode": {
    "name": "ipython",
    "version": 3
   },
   "file_extension": ".py",
   "mimetype": "text/x-python",
   "name": "python",
   "nbconvert_exporter": "python",
   "pygments_lexer": "ipython3",
   "version": "3.6.4"
  }
 },
 "nbformat": 4,
 "nbformat_minor": 1
}
