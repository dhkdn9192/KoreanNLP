{
 "cells": [
  {
   "cell_type": "code",
   "execution_count": 3,
   "metadata": {},
   "outputs": [],
   "source": [
    "from gensim.models import word2vec\n",
    "model = word2vec.Word2Vec.load(\"../model/digitaltimes.model\")"
   ]
  },
  {
   "cell_type": "code",
   "execution_count": 5,
   "metadata": {},
   "outputs": [
    {
     "data": {
      "text/plain": [
       "[('문', 0.6264052391052246),\n",
       " ('사하', 0.5411718487739563),\n",
       " ('새', 0.5385428667068481),\n",
       " ('충무', 0.5354654788970947),\n",
       " ('거린', 0.5348311066627502),\n",
       " ('더빈', 0.5343996286392212),\n",
       " ('美', 0.5309176445007324),\n",
       " ('195', 0.5270833373069763),\n",
       " ('믹스', 0.5250084400177002),\n",
       " ('나침반', 0.5236819386482239)]"
      ]
     },
     "execution_count": 5,
     "metadata": {},
     "output_type": "execute_result"
    }
   ],
   "source": [
    "model.wv.most_similar(positive=[\"문재인\"])"
   ]
  },
  {
   "cell_type": "code",
   "execution_count": 6,
   "metadata": {},
   "outputs": [
    {
     "data": {
      "text/plain": [
       "[('문', 0.6122106313705444),\n",
       " ('일행', 0.5987010598182678),\n",
       " ('손수', 0.5802975296974182),\n",
       " ('요예프', 0.5784832239151001),\n",
       " ('할트마긴', 0.5747405290603638),\n",
       " ('파란색', 0.574715256690979),\n",
       " ('보고르', 0.5742314457893372),\n",
       " ('○…', 0.5733878016471863),\n",
       " ('취임', 0.5708175301551819),\n",
       " ('더빈', 0.5699743032455444)]"
      ]
     },
     "execution_count": 6,
     "metadata": {},
     "output_type": "execute_result"
    }
   ],
   "source": [
    "model.wv.most_similar(positive=[\"대통령\"])"
   ]
  },
  {
   "cell_type": "code",
   "execution_count": 8,
   "metadata": {},
   "outputs": [
    {
     "data": {
      "text/plain": [
       "[('더불다', 0.8058371543884277),\n",
       " ('전해철', 0.699349045753479),\n",
       " ('김종인', 0.6854537725448608),\n",
       " ('이훈', 0.6761883497238159),\n",
       " ('백혜련', 0.6714771389961243),\n",
       " ('박완주', 0.668637752532959),\n",
       " ('박홍근', 0.6685394644737244),\n",
       " ('지상욱', 0.6678094267845154),\n",
       " ('우상호', 0.6664068102836609),\n",
       " ('백재현', 0.6626245379447937)]"
      ]
     },
     "execution_count": 8,
     "metadata": {},
     "output_type": "execute_result"
    }
   ],
   "source": [
    "model.wv.most_similar(positive=[\"민주당\"])"
   ]
  },
  {
   "cell_type": "code",
   "execution_count": 9,
   "metadata": {},
   "outputs": [
    {
     "data": {
      "text/plain": [
       "[('수사', 0.7243541479110718),\n",
       " ('안태근', 0.6626791954040527),\n",
       " ('검찰청', 0.649416983127594),\n",
       " ('소환조사', 0.6485296487808228),\n",
       " ('전함', 0.6381956338882446),\n",
       " ('박균택', 0.6379297375679016),\n",
       " ('정윤회', 0.6349664330482483),\n",
       " ('마구', 0.6308682560920715),\n",
       " ('뒷조사', 0.6253150701522827),\n",
       " ('김수남', 0.622403621673584)]"
      ]
     },
     "execution_count": 9,
     "metadata": {},
     "output_type": "execute_result"
    }
   ],
   "source": [
    "model.wv.most_similar(positive=[\"검찰\"])"
   ]
  },
  {
   "cell_type": "code",
   "execution_count": 11,
   "metadata": {},
   "outputs": [
    {
     "data": {
      "text/plain": [
       "[('당', 0.6992486715316772),\n",
       " ('정용기', 0.6796182990074158),\n",
       " ('경대수', 0.6678731441497803),\n",
       " ('홍준표', 0.6652337908744812),\n",
       " ('정우택', 0.6579139232635498),\n",
       " ('나경원', 0.6538423895835876),\n",
       " ('김재원', 0.6489304900169373),\n",
       " ('이현재', 0.6451777815818787),\n",
       " ('윤한', 0.6409879922866821),\n",
       " ('김선동', 0.6328142881393433)]"
      ]
     },
     "execution_count": 11,
     "metadata": {},
     "output_type": "execute_result"
    }
   ],
   "source": [
    "model.wv.most_similar(positive=[\"자유\"])"
   ]
  },
  {
   "cell_type": "code",
   "execution_count": 12,
   "metadata": {},
   "outputs": [
    {
     "data": {
      "text/plain": [
       "[('이정', 0.6951850056648254),\n",
       " ('춘추관', 0.6744116544723511),\n",
       " ('한병도', 0.674063503742218),\n",
       " ('홍보수석', 0.6739703416824341),\n",
       " ('수석', 0.6589940786361694),\n",
       " ('백원우', 0.6547713875770569),\n",
       " ('갖은', 0.6396609544754028),\n",
       " ('주영훈', 0.636925458908081),\n",
       " ('하승창', 0.63075190782547),\n",
       " ('진성준', 0.6263522505760193)]"
      ]
     },
     "execution_count": 12,
     "metadata": {},
     "output_type": "execute_result"
    }
   ],
   "source": [
    "model.wv.most_similar(positive=[\"청와대\"])"
   ]
  },
  {
   "cell_type": "code",
   "execution_count": null,
   "metadata": {
    "collapsed": true
   },
   "outputs": [],
   "source": []
  }
 ],
 "metadata": {
  "kernelspec": {
   "display_name": "Python 3_konlpy",
   "language": "python",
   "name": "python3"
  },
  "language_info": {
   "codemirror_mode": {
    "name": "ipython",
    "version": 3
   },
   "file_extension": ".py",
   "mimetype": "text/x-python",
   "name": "python",
   "nbconvert_exporter": "python",
   "pygments_lexer": "ipython3",
   "version": "3.6.4"
  }
 },
 "nbformat": 4,
 "nbformat_minor": 2
}
