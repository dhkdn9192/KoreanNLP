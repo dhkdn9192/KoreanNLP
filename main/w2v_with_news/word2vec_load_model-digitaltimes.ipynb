{
 "cells": [
  {
   "cell_type": "code",
   "execution_count": 1,
   "metadata": {},
   "outputs": [
    {
     "name": "stderr",
     "output_type": "stream",
     "text": [
      "C:\\ProgramData\\Anaconda3\\envs\\konlpy\\lib\\site-packages\\gensim\\utils.py:860: UserWarning: detected Windows; aliasing chunkize to chunkize_serial\n",
      "  warnings.warn(\"detected Windows; aliasing chunkize to chunkize_serial\")\n"
     ]
    }
   ],
   "source": [
    "from gensim.models import word2vec\n",
    "model = word2vec.Word2Vec.load(\"../model/digitaltimes.model\")"
   ]
  },
  {
   "cell_type": "code",
   "execution_count": 3,
   "metadata": {},
   "outputs": [
    {
     "data": {
      "text/plain": [
       "[('문', 0.6800603270530701),\n",
       " ('대선', 0.6736675500869751),\n",
       " ('이명박', 0.6644096970558167),\n",
       " ('공약', 0.6626853346824646),\n",
       " ('있다문재인', 0.6379263401031494),\n",
       " ('당선인', 0.6365343928337097),\n",
       " ('하다문재인', 0.6335360407829285),\n",
       " ('민주당', 0.6301539540290833),\n",
       " ('박근혜', 0.6145363450050354),\n",
       " ('집권', 0.5983635783195496)]"
      ]
     },
     "execution_count": 3,
     "metadata": {},
     "output_type": "execute_result"
    }
   ],
   "source": [
    "model.wv.most_similar(positive=[\"문재인\"])"
   ]
  },
  {
   "cell_type": "code",
   "execution_count": 2,
   "metadata": {},
   "outputs": [
    {
     "data": {
      "text/plain": [
       "[('박', 0.7674914598464966),\n",
       " ('박근혜', 0.6753716468811035),\n",
       " ('청와대', 0.6611976623535156),\n",
       " ('전', 0.6405185461044312),\n",
       " ('탄핵', 0.6344684958457947),\n",
       " ('국선변호인', 0.6340776085853577),\n",
       " ('헌재', 0.6121081113815308),\n",
       " ('가지박근혜', 0.6045032143592834),\n",
       " ('문', 0.5994457006454468),\n",
       " ('특검', 0.5948154330253601)]"
      ]
     },
     "execution_count": 2,
     "metadata": {},
     "output_type": "execute_result"
    }
   ],
   "source": [
    "model.wv.most_similar(positive=[\"대통령\"])"
   ]
  },
  {
   "cell_type": "code",
   "execution_count": 4,
   "metadata": {},
   "outputs": [
    {
     "data": {
      "text/plain": [
       "[('더불다', 0.8397223949432373),\n",
       " ('국민의당', 0.8335548043251038),\n",
       " ('의원', 0.7958934903144836),\n",
       " ('정의당', 0.7524334788322449),\n",
       " ('우상호', 0.7404574155807495),\n",
       " ('원내대표', 0.734729528427124),\n",
       " ('여당', 0.7262316942214966),\n",
       " ('새누리당', 0.7223450541496277),\n",
       " ('박영선', 0.7169119119644165),\n",
       " ('우원식', 0.7138713598251343)]"
      ]
     },
     "execution_count": 4,
     "metadata": {},
     "output_type": "execute_result"
    }
   ],
   "source": [
    "model.wv.most_similar(positive=[\"민주당\"])"
   ]
  },
  {
   "cell_type": "code",
   "execution_count": 5,
   "metadata": {},
   "outputs": [
    {
     "data": {
      "text/plain": [
       "[('수사', 0.84923255443573),\n",
       " ('특검', 0.7068150639533997),\n",
       " ('소환', 0.7015503644943237),\n",
       " ('혐의', 0.675111711025238),\n",
       " ('소환조사', 0.6719282865524292),\n",
       " ('피의자', 0.6709789037704468),\n",
       " ('기소', 0.6651433110237122),\n",
       " ('압수수색', 0.6586235165596008),\n",
       " ('참고인', 0.652756929397583),\n",
       " ('구속영장', 0.6495687961578369)]"
      ]
     },
     "execution_count": 5,
     "metadata": {},
     "output_type": "execute_result"
    }
   ],
   "source": [
    "model.wv.most_similar(positive=[\"검찰\"])"
   ]
  },
  {
   "cell_type": "code",
   "execution_count": 6,
   "metadata": {},
   "outputs": [
    {
     "data": {
      "text/plain": [
       "[('당', 0.6929585337638855),\n",
       " ('정우택', 0.6778215169906616),\n",
       " ('정태옥', 0.6740015149116516),\n",
       " ('김성태', 0.6600686311721802),\n",
       " ('민주당', 0.6402116417884827),\n",
       " ('곽대훈', 0.6393025517463684),\n",
       " ('더불다', 0.6341890692710876),\n",
       " ('국민의당', 0.6246389150619507),\n",
       " ('의원', 0.6166463494300842),\n",
       " ('정용기', 0.5932706594467163)]"
      ]
     },
     "execution_count": 6,
     "metadata": {},
     "output_type": "execute_result"
    }
   ],
   "source": [
    "model.wv.most_similar(positive=[\"자유\"])"
   ]
  },
  {
   "cell_type": "code",
   "execution_count": 7,
   "metadata": {},
   "outputs": [
    {
     "data": {
      "text/plain": [
       "[('민정', 0.7321708798408508),\n",
       " ('정무수석', 0.7160503268241882),\n",
       " ('비서실', 0.7078272700309753),\n",
       " ('수석', 0.7068498730659485),\n",
       " ('박흥렬', 0.6950355768203735),\n",
       " ('홍보수석', 0.6933506727218628),\n",
       " ('춘추관', 0.6853235363960266),\n",
       " ('권재진', 0.684836745262146),\n",
       " ('국가안보실', 0.6751306056976318),\n",
       " ('넘기다청와대', 0.6693300604820251)]"
      ]
     },
     "execution_count": 7,
     "metadata": {},
     "output_type": "execute_result"
    }
   ],
   "source": [
    "model.wv.most_similar(positive=[\"청와대\"])"
   ]
  },
  {
   "cell_type": "code",
   "execution_count": 18,
   "metadata": {},
   "outputs": [
    {
     "data": {
      "text/plain": [
       "[('LH', 0.6212236285209656),\n",
       " ('임야', 0.5911158919334412),\n",
       " ('장량동', 0.5877504944801331),\n",
       " ('034830', 0.5867577195167542),\n",
       " ('주택', 0.5789040327072144),\n",
       " ('부지', 0.5771541595458984),\n",
       " ('퉁충', 0.5617564916610718),\n",
       " ('공사', 0.5542629957199097),\n",
       " ('전원주택', 0.5530139803886414),\n",
       " ('농지', 0.5527896881103516)]"
      ]
     },
     "execution_count": 18,
     "metadata": {},
     "output_type": "execute_result"
    }
   ],
   "source": [
    "model.wv.most_similar(positive=[\"땅\", \"토지\"])"
   ]
  },
  {
   "cell_type": "code",
   "execution_count": null,
   "metadata": {
    "collapsed": true
   },
   "outputs": [],
   "source": []
  }
 ],
 "metadata": {
  "kernelspec": {
   "display_name": "Python 3_konlpy",
   "language": "python",
   "name": "python3"
  },
  "language_info": {
   "codemirror_mode": {
    "name": "ipython",
    "version": 3
   },
   "file_extension": ".py",
   "mimetype": "text/x-python",
   "name": "python",
   "nbconvert_exporter": "python",
   "pygments_lexer": "ipython3",
   "version": "3.6.4"
  }
 },
 "nbformat": 4,
 "nbformat_minor": 2
}
